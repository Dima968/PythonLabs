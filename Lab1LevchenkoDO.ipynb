{
 "cells": [
  {
   "cell_type": "code",
   "execution_count": 1,
   "id": "a0a89531",
   "metadata": {},
   "outputs": [
    {
     "data": {
      "text/plain": [
       "3"
      ]
     },
     "execution_count": 1,
     "metadata": {},
     "output_type": "execute_result"
    }
   ],
   "source": [
    "N = ord(\"D\") % 3 + 1\n",
    "N"
   ]
  },
  {
   "cell_type": "markdown",
   "id": "ca3417ba",
   "metadata": {},
   "source": [
    "# Лабораторна робота 1\n",
    "# Тема: Дослідження та візуалізація даних за допомогою Python\n",
    "# Мета: отримати базові навики використання Python для дослідження та візуалізації даних.\n",
    "# Варіант 3. Дослідження втрат бронетранспортерів (БТР)."
   ]
  },
  {
   "cell_type": "markdown",
   "id": "a56958a6",
   "metadata": {},
   "source": [
    "# Завдання 1"
   ]
  },
  {
   "cell_type": "code",
   "execution_count": 2,
   "id": "7f24f5d6",
   "metadata": {},
   "outputs": [],
   "source": [
    "import csv\n",
    "import numpy as np\n",
    "\n",
    "def get_column_data(filename, column_name):\n",
    "    with open(filename, 'r') as file:\n",
    "        csvreader = csv.reader(file)\n",
    "        headers = next(csvreader)\n",
    "        column_index = headers.index(column_name)\n",
    "        data = [float(row[column_index]) for row in csvreader if row[column_index]]\n",
    "        \n",
    "        return np.array(data)"
   ]
  },
  {
   "cell_type": "markdown",
   "id": "a39adf71",
   "metadata": {},
   "source": [
    "# Завдання 2"
   ]
  },
  {
   "cell_type": "code",
   "execution_count": 3,
   "id": "b544b3aa",
   "metadata": {
    "scrolled": false
   },
   "outputs": [
    {
     "ename": "FileNotFoundError",
     "evalue": "[Errno 2] No such file or directory: 'russia_losses_equipment.csv'",
     "output_type": "error",
     "traceback": [
      "\u001b[1;31m---------------------------------------------------------------------------\u001b[0m",
      "\u001b[1;31mFileNotFoundError\u001b[0m                         Traceback (most recent call last)",
      "\u001b[1;32m~\\AppData\\Local\\Temp\\ipykernel_58372\\2635007952.py\u001b[0m in \u001b[0;36m<module>\u001b[1;34m\u001b[0m\n\u001b[1;32m----> 1\u001b[1;33m \u001b[0mlosses_data\u001b[0m \u001b[1;33m=\u001b[0m \u001b[0mget_column_data\u001b[0m\u001b[1;33m(\u001b[0m\u001b[1;34m'russia_losses_equipment.csv'\u001b[0m\u001b[1;33m,\u001b[0m \u001b[1;34m'APC'\u001b[0m\u001b[1;33m)\u001b[0m\u001b[1;33m.\u001b[0m\u001b[0mastype\u001b[0m\u001b[1;33m(\u001b[0m\u001b[0mfloat\u001b[0m\u001b[1;33m)\u001b[0m\u001b[1;33m\u001b[0m\u001b[1;33m\u001b[0m\u001b[0m\n\u001b[0m\u001b[0;32m      2\u001b[0m \u001b[0mnp\u001b[0m\u001b[1;33m.\u001b[0m\u001b[0mset_printoptions\u001b[0m\u001b[1;33m(\u001b[0m\u001b[0mthreshold\u001b[0m\u001b[1;33m=\u001b[0m\u001b[0mnp\u001b[0m\u001b[1;33m.\u001b[0m\u001b[0minf\u001b[0m\u001b[1;33m)\u001b[0m\u001b[1;33m\u001b[0m\u001b[1;33m\u001b[0m\u001b[0m\n\u001b[0;32m      3\u001b[0m \u001b[1;33m\u001b[0m\u001b[0m\n\u001b[0;32m      4\u001b[0m \u001b[0mlosses_data\u001b[0m\u001b[1;33m\u001b[0m\u001b[1;33m\u001b[0m\u001b[0m\n",
      "\u001b[1;32m~\\AppData\\Local\\Temp\\ipykernel_58372\\608538410.py\u001b[0m in \u001b[0;36mget_column_data\u001b[1;34m(filename, column_name)\u001b[0m\n\u001b[0;32m      3\u001b[0m \u001b[1;33m\u001b[0m\u001b[0m\n\u001b[0;32m      4\u001b[0m \u001b[1;32mdef\u001b[0m \u001b[0mget_column_data\u001b[0m\u001b[1;33m(\u001b[0m\u001b[0mfilename\u001b[0m\u001b[1;33m,\u001b[0m \u001b[0mcolumn_name\u001b[0m\u001b[1;33m)\u001b[0m\u001b[1;33m:\u001b[0m\u001b[1;33m\u001b[0m\u001b[1;33m\u001b[0m\u001b[0m\n\u001b[1;32m----> 5\u001b[1;33m     \u001b[1;32mwith\u001b[0m \u001b[0mopen\u001b[0m\u001b[1;33m(\u001b[0m\u001b[0mfilename\u001b[0m\u001b[1;33m,\u001b[0m \u001b[1;34m'r'\u001b[0m\u001b[1;33m)\u001b[0m \u001b[1;32mas\u001b[0m \u001b[0mfile\u001b[0m\u001b[1;33m:\u001b[0m\u001b[1;33m\u001b[0m\u001b[1;33m\u001b[0m\u001b[0m\n\u001b[0m\u001b[0;32m      6\u001b[0m         \u001b[0mcsvreader\u001b[0m \u001b[1;33m=\u001b[0m \u001b[0mcsv\u001b[0m\u001b[1;33m.\u001b[0m\u001b[0mreader\u001b[0m\u001b[1;33m(\u001b[0m\u001b[0mfile\u001b[0m\u001b[1;33m)\u001b[0m\u001b[1;33m\u001b[0m\u001b[1;33m\u001b[0m\u001b[0m\n\u001b[0;32m      7\u001b[0m         \u001b[0mheaders\u001b[0m \u001b[1;33m=\u001b[0m \u001b[0mnext\u001b[0m\u001b[1;33m(\u001b[0m\u001b[0mcsvreader\u001b[0m\u001b[1;33m)\u001b[0m\u001b[1;33m\u001b[0m\u001b[1;33m\u001b[0m\u001b[0m\n",
      "\u001b[1;31mFileNotFoundError\u001b[0m: [Errno 2] No such file or directory: 'russia_losses_equipment.csv'"
     ]
    }
   ],
   "source": [
    "losses_data = get_column_data('russia_losses_equipment.csv', 'APC').astype(float)\n",
    "np.set_printoptions(threshold=np.inf)\n",
    "\n",
    "losses_data"
   ]
  },
  {
   "cell_type": "markdown",
   "id": "d4aa40ec",
   "metadata": {},
   "source": [
    "# Завдання 3"
   ]
  },
  {
   "cell_type": "code",
   "execution_count": null,
   "id": "1d77cb2c",
   "metadata": {},
   "outputs": [],
   "source": [
    "def calculate_daily_losses(cumulative_losses):\n",
    "    reversed_data = cumulative_losses[::-1]\n",
    "    daily_changes = np.diff(reversed_data)\n",
    "    daily_changes = np.insert(daily_changes, 0, reversed_data[0])\n",
    "    \n",
    "    return daily_changes.astype(float)\n",
    "\n",
    "daily_apc_losses = calculate_daily_losses(losses_data)\n",
    "daily_apc_losses"
   ]
  },
  {
   "cell_type": "markdown",
   "id": "afae085b",
   "metadata": {},
   "source": [
    "# Завдання 4"
   ]
  },
  {
   "cell_type": "code",
   "execution_count": null,
   "id": "e6c1cd2f",
   "metadata": {},
   "outputs": [],
   "source": [
    "def top_five_losses():\n",
    "    return np.sort(daily_apc_losses)[-5:][::-1]\n",
    "\n",
    "print(top_five_losses())"
   ]
  },
  {
   "cell_type": "markdown",
   "id": "d9d467eb",
   "metadata": {},
   "source": [
    "# Завдання 5"
   ]
  },
  {
   "cell_type": "code",
   "execution_count": null,
   "id": "abc02daf",
   "metadata": {},
   "outputs": [],
   "source": [
    "def summer_losses():\n",
    "    return np.sum(daily_apc_losses[462:553])\n",
    "\n",
    "summer_losses()"
   ]
  },
  {
   "cell_type": "markdown",
   "id": "b0346c19",
   "metadata": {},
   "source": [
    "# Завдання 6"
   ]
  },
  {
   "cell_type": "code",
   "execution_count": null,
   "id": "760afed2",
   "metadata": {},
   "outputs": [],
   "source": [
    "def calculate_average_losses():\n",
    "    return np.mean(daily_apc_losses[99:499])\n",
    "\n",
    "calculate_average_losses()"
   ]
  },
  {
   "cell_type": "markdown",
   "id": "6761547b",
   "metadata": {},
   "source": [
    "# Завдання 7"
   ]
  },
  {
   "cell_type": "code",
   "execution_count": null,
   "id": "0f297949",
   "metadata": {},
   "outputs": [],
   "source": [
    "import matplotlib.pyplot as plt\n",
    "\n",
    "def plot_apc_losses():\n",
    "    losses_reversed = daily_apc_losses[::-1]\n",
    "    last_200_losses = losses_reversed[:200]\n",
    "\n",
    "    plt.figure(figsize=(16, 10), dpi=100)\n",
    "    plt.plot(last_200_losses, marker='o', linestyle='-', color='red', label='Втрати БТР', linewidth=2)\n",
    "    plt.title('Втрати БТР за останні 200 днів війни')\n",
    "    plt.xlabel('Дні')\n",
    "    plt.ylabel('Кількість знищених БТР')\n",
    "    plt.legend(loc='upper right')\n",
    "    plt.grid(True, color='black', linestyle=':', linewidth=0.5)\n",
    "    plt.savefig('btr_losses_plot.png', dpi=100)\n",
    "    plt.show()\n",
    "\n",
    "plot_apc_losses()\n"
   ]
  },
  {
   "cell_type": "code",
   "execution_count": null,
   "id": "a4482f02",
   "metadata": {},
   "outputs": [],
   "source": []
  }
 ],
 "metadata": {
  "kernelspec": {
   "display_name": "Python 3 (ipykernel)",
   "language": "python",
   "name": "python3"
  },
  "language_info": {
   "codemirror_mode": {
    "name": "ipython",
    "version": 3
   },
   "file_extension": ".py",
   "mimetype": "text/x-python",
   "name": "python",
   "nbconvert_exporter": "python",
   "pygments_lexer": "ipython3",
   "version": "3.7.1"
  }
 },
 "nbformat": 4,
 "nbformat_minor": 5
}
